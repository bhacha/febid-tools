{
 "cells": [
  {
   "cell_type": "markdown",
   "metadata": {},
   "source": [
    "This notebook should give an example walkthrought of using the f4mine program, which is inspired by the f3ast package created by Luka Skoric and Amalion Fernandez-Pacheco's group"
   ]
  },
  {
   "cell_type": "markdown",
   "metadata": {},
   "source": [
    "First, define the SEM settings:"
   ]
  },
  {
   "cell_type": "code",
   "execution_count": 1,
   "metadata": {},
   "outputs": [],
   "source": [
    "from f4mine import sem\n",
    "from matplotlib import pyplot as plt\n",
    "\n",
    "sem_settings = sem.SEM(addressable_pixels=[65536, 56576],\n",
    "                    screen_width=10.2e3,\n",
    "                    )\n"
   ]
  },
  {
   "cell_type": "markdown",
   "metadata": {},
   "source": [
    "Next, let's import a structure. In this example, we will actually import a stack of numpy arrays. This can also be done with an image stack."
   ]
  },
  {
   "cell_type": "code",
   "execution_count": 2,
   "metadata": {},
   "outputs": [
    {
     "name": "stdout",
     "output_type": "stream",
     "text": [
      "Slicing structure...\n",
      "Slicing Completed!\n"
     ]
    }
   ],
   "source": [
    "from f4mine import structure\n",
    "\n",
    "filepath = 'branchtrio-SizedUp.stl'\n",
    "\n",
    "branched_trio = structure.import_mesh(filepath, pitch=100)"
   ]
  },
  {
   "cell_type": "markdown",
   "metadata": {},
   "source": [
    "We can visualize X-Y slices of our binary structure"
   ]
  },
  {
   "cell_type": "code",
   "execution_count": 3,
   "metadata": {},
   "outputs": [
    {
     "data": {
      "image/png": "[encoded data removed]",
      "text/plain": [
       "<Figure size 640x480 with 2 Axes>"
      ]
     },
     "metadata": {},
     "output_type": "display_data"
    }
   ],
   "source": [
    "layer_slice = 37\n",
    "\n",
    "branched_trio.plot_slice(layer_slice, type='structure')"
   ]
  },
  {
   "cell_type": "markdown",
   "metadata": {},
   "source": [
    "Then, we can set the size and begin calculating some of the properties"
   ]
  },
  {
   "cell_type": "code",
   "execution_count": 4,
   "metadata": {},
   "outputs": [],
   "source": [
    "size_x = 1000 #nm\n",
    "size_y = 1000 #nm\n",
    "size_z = 1000 #nm\n",
    "branched_trio.set_size([size_x, size_y, size_z])\n",
    "\n",
    "branched_trio.section()\n"
   ]
  },
  {
   "cell_type": "markdown",
   "metadata": {},
   "source": [
    "Now we can access a wealth of properties"
   ]
  },
  {
   "cell_type": "code",
   "execution_count": 5,
   "metadata": {},
   "outputs": [
    {
     "name": "stdout",
     "output_type": "stream",
     "text": [
      "dict_keys(['threshold', 'input_pitch', 'binary_array', 'structure_size_nm', 'labelled_regions', 'centers_pix', 'areas_pix', 'bounding_boxes_pix', 'euler_numbers', 'structure_size_fab', 'pix_size', 'pitch_nm', 'pitch_fab', 'areas', 'total_resistances', 'resistance_calculated_flag', 'dwell_list', 'layer_height', 'centers'])\n"
     ]
    }
   ],
   "source": [
    "print(branched_trio.__dict__.keys())\n",
    " "
   ]
  },
  {
   "cell_type": "markdown",
   "metadata": {},
   "source": [
    "Next, let's define our model and calculate the parameters for our fabrication. \n",
    "\n",
    "First, we will use the array model. It calculates resistances using series and parallel resistor approximations."
   ]
  },
  {
   "cell_type": "code",
   "execution_count": 6,
   "metadata": {},
   "outputs": [
    {
     "name": "stdout",
     "output_type": "stream",
     "text": [
      "Layer resistances calculated\n",
      "The path difference is 1\n",
      "The path difference is 2\n",
      "Total resistances calculated\n"
     ]
    }
   ],
   "source": [
    "from f4mine import model \n",
    "\n",
    "GR0 = 250e-3 # in um/s, base growth rate\n",
    "k = 1.5 # in 1/nm?, thermal conductivity\n",
    "sigma = 4.4 # in nm, dwell size\n",
    "\n",
    "mod = model.ArrayModel(branched_trio, gr=GR0, k=k, sigma=sigma, single_pixel_width=50, rho=1)\n",
    "\n",
    "mod.calculate_resistance()\n",
    "resarr1 = branched_trio.total_resistances"
   ]
  },
  {
   "cell_type": "markdown",
   "metadata": {},
   "source": [
    "#### We can resize the binary array and resistance array to get more fabrication points. By doing this after the previous steps, we can use an efficient spline interpolation to increase our fabrication density.\n",
    "\n",
    "### Note that this overrides the object's property and this is not yet undoable!"
   ]
  },
  {
   "cell_type": "code",
   "execution_count": 7,
   "metadata": {},
   "outputs": [],
   "source": [
    "branched_trio.resize([300,300,300])"
   ]
  },
  {
   "cell_type": "markdown",
   "metadata": {},
   "source": [
    "Now let's calculate dwells with our resistance. There are two ways to do this. One method involves K-Tree nearest neighbor lookup, while another involves a fourier-space convolution between each layer and the inverse of a gaussian. The second method aims to correct for the gaussian blurring that will be caused by the beam."
   ]
  },
  {
   "cell_type": "code",
   "execution_count": 8,
   "metadata": {},
   "outputs": [],
   "source": [
    "from f4mine import dwell\n",
    "\n",
    "sigma = 4.4 \n",
    "pitch = 10\n",
    "gr = 250\n",
    "k = 1.5\n",
    "sem_params = {\"GR0\": gr, \"k\":k}\n",
    "\n",
    "solver = dwell.ConvolutionMethod(branched_trio, sigma, pitch=pitch, filter=\"inverse_gaussian\", calibration_parameters=sem_params, kernel_size=5)\n",
    "output = solver.convolution_solve()\n",
    "\n"
   ]
  },
  {
   "cell_type": "markdown",
   "metadata": {},
   "source": [
    "# TO DO: Get dwells from solver.dwells and put into a stream file!"
   ]
  }
 ],
 "metadata": {
  "kernelspec": {
   "display_name": "f3ast",
   "language": "python",
   "name": "python3"
  },
  "language_info": {
   "codemirror_mode": {
    "name": "ipython",
    "version": 3
   },
   "file_extension": ".py",
   "mimetype": "text/x-python",
   "name": "python",
   "nbconvert_exporter": "python",
   "pygments_lexer": "ipython3",
   "version": "3.10.15"
  }
 },
 "nbformat": 4,
 "nbformat_minor": 2
}
